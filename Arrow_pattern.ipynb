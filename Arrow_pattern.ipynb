{
  "nbformat": 4,
  "nbformat_minor": 0,
  "metadata": {
    "colab": {
      "name": "Arrow pattern.ipynb",
      "provenance": [],
      "authorship_tag": "ABX9TyNj35Jhe5Xnzupzvq35Zsd6",
      "include_colab_link": true
    },
    "kernelspec": {
      "name": "python3",
      "display_name": "Python 3"
    }
  },
  "cells": [
    {
      "cell_type": "markdown",
      "metadata": {
        "id": "view-in-github",
        "colab_type": "text"
      },
      "source": [
        "<a href=\"https://colab.research.google.com/github/Sharmilazaman/Python-Practice/blob/main/Arrow_pattern.ipynb\" target=\"_parent\"><img src=\"https://colab.research.google.com/assets/colab-badge.svg\" alt=\"Open In Colab\"/></a>"
      ]
    },
    {
      "cell_type": "code",
      "metadata": {
        "colab": {
          "base_uri": "https://localhost:8080/"
        },
        "id": "ZDp_4capj604",
        "outputId": "1026d12e-274d-40c5-e740-73fcdf0071a3"
      },
      "source": [
        "def arrow(n):\r\n",
        "  for i in range(n):\r\n",
        "    if i==n-1:\r\n",
        "      print((2*n) * \"*\",end=\"\")\r\n",
        "      print((i+1) * \"*\")\r\n",
        "    else:\r\n",
        "      print((2*n) * \" \",end=\"\")\r\n",
        "      print((i+1) * \"*\")\r\n",
        "  for j in range(n-1, 0, -1):\r\n",
        "    print((2*n) * \" \", end=\"\")\r\n",
        "    print(j* \"*\")\r\n",
        "arrow(10)"
      ],
      "execution_count": 3,
      "outputs": [
        {
          "output_type": "stream",
          "text": [
            "                    *\n",
            "                    **\n",
            "                    ***\n",
            "                    ****\n",
            "                    *****\n",
            "                    ******\n",
            "                    *******\n",
            "                    ********\n",
            "                    *********\n",
            "******************************\n",
            "                    *********\n",
            "                    ********\n",
            "                    *******\n",
            "                    ******\n",
            "                    *****\n",
            "                    ****\n",
            "                    ***\n",
            "                    **\n",
            "                    *\n"
          ],
          "name": "stdout"
        }
      ]
    }
  ]
}