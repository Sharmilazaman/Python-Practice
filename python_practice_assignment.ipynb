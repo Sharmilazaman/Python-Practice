{
  "nbformat": 4,
  "nbformat_minor": 0,
  "metadata": {
    "kernelspec": {
      "display_name": "Python 3",
      "language": "python",
      "name": "python3"
    },
    "language_info": {
      "codemirror_mode": {
        "name": "ipython",
        "version": 3
      },
      "file_extension": ".py",
      "mimetype": "text/x-python",
      "name": "python",
      "nbconvert_exporter": "python",
      "pygments_lexer": "ipython3",
      "version": "3.9.1"
    },
    "colab": {
      "name": "python_practice_assignment.ipynb",
      "provenance": [],
      "collapsed_sections": [],
      "include_colab_link": true
    }
  },
  "cells": [
    {
      "cell_type": "markdown",
      "metadata": {
        "id": "view-in-github",
        "colab_type": "text"
      },
      "source": [
        "<a href=\"https://colab.research.google.com/github/Sharmilazaman/Python-Practice/blob/main/python_practice_assignment.ipynb\" target=\"_parent\"><img src=\"https://colab.research.google.com/assets/colab-badge.svg\" alt=\"Open In Colab\"/></a>"
      ]
    },
    {
      "cell_type": "markdown",
      "metadata": {
        "id": "I9ZV794_T-fg"
      },
      "source": [
        "# Assignment 1 - Python Basics Practice\n",
        "\n"
      ]
    },
    {
      "cell_type": "markdown",
      "metadata": {
        "id": "fxG1cfzMT-fi"
      },
      "source": [
        "## Problem 1 - Variables and Data Types\n",
        "\n",
        "**Q: Assign your first name to the variable `first_name`** , last name to `last_name`** and print your `full name`"
      ]
    },
    {
      "cell_type": "code",
      "metadata": {
        "colab": {
          "base_uri": "https://localhost:8080/"
        },
        "id": "sP6GlJg7lhyb",
        "outputId": "9a02c72c-c3f5-4793-a263-b2ceb63f7cad"
      },
      "source": [
        "first_name= \"Sharmila\"\r\n",
        "last_name= \"Zaman\"\r\n",
        "print(\"My name is\", first_name + last_name)\r\n"
      ],
      "execution_count": 7,
      "outputs": [
        {
          "output_type": "stream",
          "text": [
            "My name is SharmilaZaman\n"
          ],
          "name": "stdout"
        }
      ]
    },
    {
      "cell_type": "markdown",
      "metadata": {
        "id": "yBB6RO-Elhye"
      },
      "source": [
        "2. print the message -------> `My assignment is given below`"
      ]
    },
    {
      "cell_type": "code",
      "metadata": {
        "id": "sDLfyJ3alhyf"
      },
      "source": [
        "print(\"My assignment is given below\")"
      ],
      "execution_count": null,
      "outputs": []
    },
    {
      "cell_type": "markdown",
      "metadata": {
        "id": "T6V3Orshlhyh"
      },
      "source": [
        "3. Declare 2 variables, named `A` and `B` and make `the sum of these two variables`, assigning its result to the variable `X` and Print `X`  "
      ]
    },
    {
      "cell_type": "code",
      "metadata": {
        "colab": {
          "base_uri": "https://localhost:8080/"
        },
        "id": "9CwYh3S-lhyj",
        "outputId": "0a77449b-d47a-414e-c490-d52472625ab8"
      },
      "source": [
        "A=2\r\n",
        "B=3\r\n",
        "X=A+B\r\n",
        "print(\"Sum =\", X)"
      ],
      "execution_count": 11,
      "outputs": [
        {
          "output_type": "stream",
          "text": [
            "Sum = 5\n"
          ],
          "name": "stdout"
        }
      ]
    },
    {
      "cell_type": "markdown",
      "metadata": {
        "id": "d8N8FRiHlhyk"
      },
      "source": [
        "4. The formula to calculate the area of a circumference is defined as `A = π . R2` (R2 = r square). Considering to this problem that π = 3.14159\n",
        "declare `R` and print `A`\n",
        "\n"
      ]
    },
    {
      "cell_type": "code",
      "metadata": {
        "colab": {
          "base_uri": "https://localhost:8080/"
        },
        "id": "mGBwJ9Lzlhym",
        "outputId": "c47bccef-df3d-4708-e6b1-3eac214ccc2f"
      },
      "source": [
        "π=3.14159\r\n",
        "R=5\r\n",
        "A=π*R*R\r\n",
        "print(A)"
      ],
      "execution_count": 14,
      "outputs": [
        {
          "output_type": "stream",
          "text": [
            "78.53975\n"
          ],
          "name": "stdout"
        }
      ]
    },
    {
      "cell_type": "markdown",
      "metadata": {
        "id": "k-LWHlkelhym"
      },
      "source": [
        "5. Declare three variables : A, B and C. Then, calculate and show:\n",
        "\n",
        "a) `the area of the rectangled triangle that has base A and height C.`\n",
        "\n",
        "\n",
        "\n"
      ]
    },
    {
      "cell_type": "code",
      "metadata": {
        "colab": {
          "base_uri": "https://localhost:8080/"
        },
        "id": "jk1F684blhyn",
        "outputId": "147c5f0b-f516-4fac-e0e1-7dba04e59735"
      },
      "source": [
        "A=2\r\n",
        "B=3\r\n",
        "C=4\r\n",
        "Area=1.5*A*C\r\n",
        "print(\"Area\",Area)"
      ],
      "execution_count": 15,
      "outputs": [
        {
          "output_type": "stream",
          "text": [
            "Area 12.0\n"
          ],
          "name": "stdout"
        }
      ]
    },
    {
      "cell_type": "markdown",
      "metadata": {
        "id": "pinrXMZ8lhyn"
      },
      "source": [
        "b) `the area of the radius's circle C. (pi = 3.14159)`"
      ]
    },
    {
      "cell_type": "code",
      "metadata": {
        "colab": {
          "base_uri": "https://localhost:8080/"
        },
        "id": "Jq1YhxOVlhyo",
        "outputId": "98c99d36-7441-4f31-95c8-5eae30284d71"
      },
      "source": [
        "pi = 3.14159\r\n",
        "R=10\r\n",
        "C=pi*R*R\r\n",
        "print(\"The area of the radius's circle =\",C)"
      ],
      "execution_count": 18,
      "outputs": [
        {
          "output_type": "stream",
          "text": [
            "The area of the radius's circle = 314.159\n"
          ],
          "name": "stdout"
        }
      ]
    },
    {
      "cell_type": "markdown",
      "metadata": {
        "id": "kbM3kRMLlhyo"
      },
      "source": [
        "c) `the area of the trapezium which has A and B by base, and C by height.`"
      ]
    },
    {
      "cell_type": "code",
      "metadata": {
        "colab": {
          "base_uri": "https://localhost:8080/"
        },
        "id": "NJ2bjbbdlhyp",
        "outputId": "b7e31d8f-8740-4f5f-b517-8eee96f96cef"
      },
      "source": [
        "A=6\r\n",
        "B=10\r\n",
        "C=8\r\n",
        "Area= ((A+B)/2)*C\r\n",
        "print(\"The area of the trapezium\",Area)"
      ],
      "execution_count": 20,
      "outputs": [
        {
          "output_type": "stream",
          "text": [
            "The area of the trapezium 64.0\n"
          ],
          "name": "stdout"
        }
      ]
    },
    {
      "cell_type": "markdown",
      "metadata": {
        "id": "gmQqP7Felhyp"
      },
      "source": [
        "d) `the area of ​​the square that has side B.`"
      ]
    },
    {
      "cell_type": "code",
      "metadata": {
        "colab": {
          "base_uri": "https://localhost:8080/"
        },
        "id": "HA1Yt8whlhyq",
        "outputId": "5af1f505-5474-40fe-b894-fe3c000e6233"
      },
      "source": [
        "B=10\r\n",
        "Area=B*B\r\n",
        "print(\"The area of ​​the square \", Area)"
      ],
      "execution_count": 23,
      "outputs": [
        {
          "output_type": "stream",
          "text": [
            "The area of ​​the square  100\n"
          ],
          "name": "stdout"
        }
      ]
    },
    {
      "cell_type": "markdown",
      "metadata": {
        "id": "kDcG_EONlhyq"
      },
      "source": [
        "e) `the area of the rectangle that has sides A and B.` "
      ]
    },
    {
      "cell_type": "code",
      "metadata": {
        "colab": {
          "base_uri": "https://localhost:8080/"
        },
        "id": "8rjjo2Wblhyr",
        "outputId": "1d92f8e3-2deb-4bc5-e0af-70512b93e490"
      },
      "source": [
        "A=7\r\n",
        "B=10\r\n",
        "Area=A*B\r\n",
        "print(\"The area of the rectangle\", Area)"
      ],
      "execution_count": 24,
      "outputs": [
        {
          "output_type": "stream",
          "text": [
            "The area of the rectangle 70\n"
          ],
          "name": "stdout"
        }
      ]
    }
  ]
}