{
  "nbformat": 4,
  "nbformat_minor": 0,
  "metadata": {
    "kernelspec": {
      "display_name": "Python 3",
      "language": "python",
      "name": "python3"
    },
    "language_info": {
      "codemirror_mode": {
        "name": "ipython",
        "version": 3
      },
      "file_extension": ".py",
      "mimetype": "text/x-python",
      "name": "python",
      "nbconvert_exporter": "python",
      "pygments_lexer": "ipython3",
      "version": "3.9.1"
    },
    "colab": {
      "name": "Sharmila Zaman - python_practice_assignment.ipynb",
      "provenance": [],
      "collapsed_sections": [],
      "include_colab_link": true
    }
  },
  "cells": [
    {
      "cell_type": "markdown",
      "metadata": {
        "id": "view-in-github",
        "colab_type": "text"
      },
      "source": [
        "<a href=\"https://colab.research.google.com/github/Sharmilazaman/Python-Practice/blob/main/Sharmila_Zaman_python_practice_assignment.ipynb\" target=\"_parent\"><img src=\"https://colab.research.google.com/assets/colab-badge.svg\" alt=\"Open In Colab\"/></a>"
      ]
    },
    {
      "cell_type": "markdown",
      "metadata": {
        "id": "I9ZV794_T-fg"
      },
      "source": [
        "# Assignment 1 - Python Basics Practice\n",
        "\n"
      ]
    },
    {
      "cell_type": "markdown",
      "metadata": {
        "id": "fxG1cfzMT-fi"
      },
      "source": [
        "## Problem 1 - Variables and Data Types\n",
        "\n",
        "**Q: Assign your first name to the variable `first_name`** , last name to `last_name`** and print your `full name`"
      ]
    },
    {
      "cell_type": "code",
      "metadata": {
        "colab": {
          "base_uri": "https://localhost:8080/"
        },
        "id": "Gw7Pl_NIqj9z",
        "outputId": "97e3d316-05bf-4a24-8dce-42b402f025a6"
      },
      "source": [
        "first_name= \"Sharmila\"\r\n",
        "last_name= \"Zaman\"\r\n",
        "print(\"My name is\", first_name + last_name)"
      ],
      "execution_count": 1,
      "outputs": [
        {
          "output_type": "stream",
          "text": [
            "My name is SharmilaZaman\n"
          ],
          "name": "stdout"
        }
      ]
    },
    {
      "cell_type": "markdown",
      "metadata": {
        "id": "G62Iso2Mqj90"
      },
      "source": [
        "2. print the message -------> `My assignment is given below`"
      ]
    },
    {
      "cell_type": "code",
      "metadata": {
        "colab": {
          "base_uri": "https://localhost:8080/"
        },
        "id": "NRCq2Kl3qj91",
        "outputId": "7dca9a45-dc5b-4ad4-d508-702b6d7989d8"
      },
      "source": [
        "print(\"My assignment is given below\")"
      ],
      "execution_count": 2,
      "outputs": [
        {
          "output_type": "stream",
          "text": [
            "My assignment is given below\n"
          ],
          "name": "stdout"
        }
      ]
    },
    {
      "cell_type": "markdown",
      "metadata": {
        "id": "FkVUCAzOqj91"
      },
      "source": [
        "3. Declare 2 variables, named `A` and `B` and make `the sum of these two variables`, assigning its result to the variable `X` and Print `X`  "
      ]
    },
    {
      "cell_type": "code",
      "metadata": {
        "colab": {
          "base_uri": "https://localhost:8080/"
        },
        "id": "upgXNUbgqj92",
        "outputId": "ee46bcc6-0e47-480c-aafb-9a43e2a23b72"
      },
      "source": [
        "A=2\r\n",
        "B=3\r\n",
        "X=A+B\r\n",
        "print(\"Sum =\", X)"
      ],
      "execution_count": 3,
      "outputs": [
        {
          "output_type": "stream",
          "text": [
            "Sum = 5\n"
          ],
          "name": "stdout"
        }
      ]
    },
    {
      "cell_type": "markdown",
      "metadata": {
        "id": "kCqZ9907qj92"
      },
      "source": [
        "4. The formula to calculate the area of a circumference is defined as `A = π . R2` (R2 = r square). Considering to this problem that π = 3.14159\n",
        "declare `R` and print `A`\n",
        "\n"
      ]
    },
    {
      "cell_type": "code",
      "metadata": {
        "colab": {
          "base_uri": "https://localhost:8080/"
        },
        "id": "1cI1LKMXqj93",
        "outputId": "b4db7bf6-622c-425d-bbe9-a675e01ce38e"
      },
      "source": [
        "π=3.14159\r\n",
        "R=5\r\n",
        "A=π*R*R\r\n",
        "print(\"Area =\",A)"
      ],
      "execution_count": 11,
      "outputs": [
        {
          "output_type": "stream",
          "text": [
            "Area = 78.53975\n"
          ],
          "name": "stdout"
        }
      ]
    },
    {
      "cell_type": "markdown",
      "metadata": {
        "id": "pylGCWP3qj94"
      },
      "source": [
        "5. Declare three variables : A, B and C. Then, calculate and show:\n",
        "\n",
        "a) `the area of the rectangled triangle that has base A and height C.`\n",
        "\n",
        "\n",
        "\n"
      ]
    },
    {
      "cell_type": "code",
      "metadata": {
        "colab": {
          "base_uri": "https://localhost:8080/"
        },
        "id": "ql0qG8Bjqj94",
        "outputId": "72c55568-c6fd-4bc1-d3b8-d1bcd027cbb3"
      },
      "source": [
        "A=2\r\n",
        "B=3\r\n",
        "C=4\r\n",
        "Area=1.5*A*C\r\n",
        "print(\"Area\",Area)"
      ],
      "execution_count": 5,
      "outputs": [
        {
          "output_type": "stream",
          "text": [
            "Area 12.0\n"
          ],
          "name": "stdout"
        }
      ]
    },
    {
      "cell_type": "markdown",
      "metadata": {
        "id": "VtCnFSUoqj95"
      },
      "source": [
        "b) `the area of the radius's circle C. (pi = 3.14159)`"
      ]
    },
    {
      "cell_type": "code",
      "metadata": {
        "colab": {
          "base_uri": "https://localhost:8080/"
        },
        "id": "rgoqFQVZqj95",
        "outputId": "9eb83f2b-a74f-4ce2-955a-65dd5fcd5d76"
      },
      "source": [
        "pi = 3.14159\r\n",
        "R=10\r\n",
        "C=pi*R*R\r\n",
        "print(\"The area of the radius's circle =\",C)\r\n"
      ],
      "execution_count": 6,
      "outputs": [
        {
          "output_type": "stream",
          "text": [
            "The area of the radius's circle = 314.159\n"
          ],
          "name": "stdout"
        }
      ]
    },
    {
      "cell_type": "markdown",
      "metadata": {
        "id": "-5bxlJzTqj96"
      },
      "source": [
        "c) `the area of the trapezium which has A and B by base, and C by height.`"
      ]
    },
    {
      "cell_type": "code",
      "metadata": {
        "colab": {
          "base_uri": "https://localhost:8080/"
        },
        "id": "1fKA4r_lqj96",
        "outputId": "7572d9f5-6aaa-417c-b47d-f54ba6747514"
      },
      "source": [
        "A=6\r\n",
        "B=10\r\n",
        "C=8\r\n",
        "Area= ((A+B)/2)*C\r\n",
        "print(\"The area of the trapezium\",Area)"
      ],
      "execution_count": 7,
      "outputs": [
        {
          "output_type": "stream",
          "text": [
            "The area of the trapezium 64.0\n"
          ],
          "name": "stdout"
        }
      ]
    },
    {
      "cell_type": "markdown",
      "metadata": {
        "id": "d8L3sNznqj97"
      },
      "source": [
        "d) `the area of ​​the square that has side B.`"
      ]
    },
    {
      "cell_type": "code",
      "metadata": {
        "colab": {
          "base_uri": "https://localhost:8080/"
        },
        "id": "3z3mS1pWqj97",
        "outputId": "b0b16098-feec-4326-f141-151da45a19ff"
      },
      "source": [
        "B=10\r\n",
        "Area=B*B\r\n",
        "print(\"The area of ​​the square \", Area)"
      ],
      "execution_count": 8,
      "outputs": [
        {
          "output_type": "stream",
          "text": [
            "The area of ​​the square  100\n"
          ],
          "name": "stdout"
        }
      ]
    },
    {
      "cell_type": "markdown",
      "metadata": {
        "id": "zEn5clprqj98"
      },
      "source": [
        "e) `the area of the rectangle that has sides A and B.` "
      ]
    },
    {
      "cell_type": "code",
      "metadata": {
        "colab": {
          "base_uri": "https://localhost:8080/"
        },
        "id": "iD7q0RgIqj98",
        "outputId": "e7af63ee-cd97-4bbb-e550-894875b97a45"
      },
      "source": [
        "A=7\r\n",
        "B=10\r\n",
        "Area=A*B\r\n",
        "print(\"The area of the rectangle\", Area)"
      ],
      "execution_count": 9,
      "outputs": [
        {
          "output_type": "stream",
          "text": [
            "The area of the rectangle 70\n"
          ],
          "name": "stdout"
        }
      ]
    }
  ]
}